{
 "cells": [
  {
   "cell_type": "markdown",
   "metadata": {},
   "source": [
    "# N2V Prediction\n",
    "Please run the 'N2V-Convallaria-1-Training' notebook first."
   ]
  },
  {
   "cell_type": "code",
   "execution_count": null,
   "metadata": {},
   "outputs": [],
   "source": [
    "import matplotlib.pyplot as plt\n",
    "import numpy as np\n",
    "import torch\n",
    "from tifffile import imread\n",
    "\n",
    "from unet.model import UNet\n",
    "from pn2v.utils import denormalize\n",
    "from pn2v.utils import normalize\n",
    "from pn2v.utils import PSNR\n",
    "from pn2v import utils\n",
    "from pn2v import prediction\n",
    "import pn2v.training\n",
    "from pn2v import histNoiseModel\n",
    "\n",
    "# See if we can use a GPU\n",
    "device=utils.getDevice()"
   ]
  },
  {
   "cell_type": "markdown",
   "metadata": {},
   "source": [
    "### Load Data"
   ]
  },
  {
   "cell_type": "code",
   "execution_count": null,
   "metadata": {},
   "outputs": [],
   "source": [
    "# We need the training data in order to calulate 'mean' and 'std' for normalization\n",
    "path='data/Convallaria_diaphragm/'\n",
    "\n",
    "# Load the test data\n",
    "dataTest=imread(path+\"20190520_tl_25um_50msec_05pc_488_130EM_Conv.tif\")[:,:512,:512]\n",
    "# We are loading only a sub image to spped up computation\n",
    "\n",
    "# We estimate the ground truth by averaging.\n",
    "dataTestGT=np.mean(dataTest[:,...],axis=0)[np.newaxis,...]\n"
   ]
  },
  {
   "cell_type": "markdown",
   "metadata": {},
   "source": [
    "### Load the Network"
   ]
  },
  {
   "cell_type": "code",
   "execution_count": null,
   "metadata": {},
   "outputs": [],
   "source": [
    "# Load the network, created in the 'Convallaria-2-Training' notebook\n",
    "net=torch.load(path+\"/last_conv_N2V.net\")"
   ]
  },
  {
   "cell_type": "markdown",
   "metadata": {},
   "source": [
    "### Evaluation"
   ]
  },
  {
   "cell_type": "code",
   "execution_count": null,
   "metadata": {},
   "outputs": [],
   "source": [
    "# Now we are processing data and calculating PSNR values.\n",
    "n2vRes=[]\n",
    "resultImgs=[]\n",
    "inputImgs=[]\n",
    "\n",
    "# We iterate over all test images.\n",
    "for index in range(dataTest.shape[0]):\n",
    "    \n",
    "    im=dataTest[index]\n",
    "    gt=dataTestGT[0] # The ground truth is the same for all images\n",
    "    \n",
    "    # We are using tiling to fit the image into memory\n",
    "    # If you get an error try a smaller patch size (ps)\n",
    "    n2vResult = prediction.tiledPredict(im, net ,ps=256, overlap=48,\n",
    "                                            device=device, noiseModel=None)\n",
    "    \n",
    "    \n",
    "    inputImgs.append(im)\n",
    "\n",
    "    rangePSNR=np.max(gt)-np.min(gt)\n",
    "    n2vPrior=PSNR(gt, n2vResult,rangePSNR )\n",
    "    n2vRes.append(n2vPrior)\n",
    "\n",
    "    print (\"image:\",index)\n",
    "    print (\"PSNR input\",PSNR(gt, im, rangePSNR))\n",
    "    print (\"PSNR N2V\",n2vPrior) # Without info from masked pixel\n",
    "    print ('-----------------------------------')\n",
    "    \n",
    "    \n",
    "# We display the results for the last test image       \n",
    "vmi=np.percentile(gt,0.01)\n",
    "vma=np.percentile(gt,99)\n",
    "\n",
    "plt.figure(figsize=(15, 15))\n",
    "plt.subplot(1, 2, 1)\n",
    "plt.title(label='Input Image')\n",
    "plt.imshow(im, vmax=vma, vmin=vmi, cmap='magma')\n",
    "\n",
    "plt.subplot(1, 2, 2)\n",
    "plt.title(label='N2V result')\n",
    "plt.imshow(n2vResult, vmax=vma, vmin=vmi, cmap='magma')\n",
    "\n",
    "plt.figure(figsize=(15, 15))\n",
    "plt.subplot(1, 2, 1)\n",
    "plt.title(label='Input Image')\n",
    "plt.imshow(im[100:200,150:250], vmax=vma, vmin=vmi, cmap='magma')\n",
    "\n",
    "plt.subplot(1, 2, 2)\n",
    "plt.title(label='N2V result')\n",
    "plt.imshow(n2vResult[100:200,150:250], vmax=vma, vmin=vmi, cmap='magma')\n",
    "plt.show()\n",
    "\n",
    "print(\"Avg PSNR:\", np.mean(np.array(n2vRes) ), '+-(2SEM)',2*np.std(np.array(n2vRes) )/np.sqrt(float(len(n2vRes)) ) )"
   ]
  },
  {
   "cell_type": "code",
   "execution_count": null,
   "metadata": {},
   "outputs": [],
   "source": []
  }
 ],
 "metadata": {
  "kernelspec": {
   "display_name": "Python 3",
   "language": "python",
   "name": "python3"
  },
  "language_info": {
   "codemirror_mode": {
    "name": "ipython",
    "version": 3
   },
   "file_extension": ".py",
   "mimetype": "text/x-python",
   "name": "python",
   "nbconvert_exporter": "python",
   "pygments_lexer": "ipython3",
   "version": "3.7.1"
  }
 },
 "nbformat": 4,
 "nbformat_minor": 2
}
